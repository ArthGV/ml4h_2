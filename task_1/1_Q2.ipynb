{
 "cells": [
  {
   "cell_type": "code",
   "execution_count": 1,
   "id": "a0edcd16-8983-468a-bd7f-5a28853a6b02",
   "metadata": {},
   "outputs": [],
   "source": [
    "from sklearn import linear_model\n",
    "import pandas as pd\n",
    "import numpy as np\n",
    "from sklearn.metrics import confusion_matrix\n",
    "from sklearn.metrics import f1_score\n",
    "from sklearn.metrics import roc_auc_score"
   ]
  },
  {
   "cell_type": "code",
   "execution_count": 2,
   "id": "843fe5f5-fb37-4763-82e2-195c31baf0a1",
   "metadata": {},
   "outputs": [],
   "source": [
    "X = pd.read_csv('data/data_preprocessed.csv')\n",
    "X_test = pd.read_csv('data/test_data_preprocessed.csv')\n",
    "y = pd.read_csv('data/outcome.csv')['HeartDisease']\n",
    "y_test = pd.read_csv('data/outcome_test.csv')['HeartDisease']"
   ]
  },
  {
   "cell_type": "code",
   "execution_count": 3,
   "id": "9299f4a6-24f0-4993-856a-b73c60e0d7e6",
   "metadata": {},
   "outputs": [
    {
     "data": {
      "text/html": [
       "<style>#sk-container-id-1 {color: black;background-color: white;}#sk-container-id-1 pre{padding: 0;}#sk-container-id-1 div.sk-toggleable {background-color: white;}#sk-container-id-1 label.sk-toggleable__label {cursor: pointer;display: block;width: 100%;margin-bottom: 0;padding: 0.3em;box-sizing: border-box;text-align: center;}#sk-container-id-1 label.sk-toggleable__label-arrow:before {content: \"▸\";float: left;margin-right: 0.25em;color: #696969;}#sk-container-id-1 label.sk-toggleable__label-arrow:hover:before {color: black;}#sk-container-id-1 div.sk-estimator:hover label.sk-toggleable__label-arrow:before {color: black;}#sk-container-id-1 div.sk-toggleable__content {max-height: 0;max-width: 0;overflow: hidden;text-align: left;background-color: #f0f8ff;}#sk-container-id-1 div.sk-toggleable__content pre {margin: 0.2em;color: black;border-radius: 0.25em;background-color: #f0f8ff;}#sk-container-id-1 input.sk-toggleable__control:checked~div.sk-toggleable__content {max-height: 200px;max-width: 100%;overflow: auto;}#sk-container-id-1 input.sk-toggleable__control:checked~label.sk-toggleable__label-arrow:before {content: \"▾\";}#sk-container-id-1 div.sk-estimator input.sk-toggleable__control:checked~label.sk-toggleable__label {background-color: #d4ebff;}#sk-container-id-1 div.sk-label input.sk-toggleable__control:checked~label.sk-toggleable__label {background-color: #d4ebff;}#sk-container-id-1 input.sk-hidden--visually {border: 0;clip: rect(1px 1px 1px 1px);clip: rect(1px, 1px, 1px, 1px);height: 1px;margin: -1px;overflow: hidden;padding: 0;position: absolute;width: 1px;}#sk-container-id-1 div.sk-estimator {font-family: monospace;background-color: #f0f8ff;border: 1px dotted black;border-radius: 0.25em;box-sizing: border-box;margin-bottom: 0.5em;}#sk-container-id-1 div.sk-estimator:hover {background-color: #d4ebff;}#sk-container-id-1 div.sk-parallel-item::after {content: \"\";width: 100%;border-bottom: 1px solid gray;flex-grow: 1;}#sk-container-id-1 div.sk-label:hover label.sk-toggleable__label {background-color: #d4ebff;}#sk-container-id-1 div.sk-serial::before {content: \"\";position: absolute;border-left: 1px solid gray;box-sizing: border-box;top: 0;bottom: 0;left: 50%;z-index: 0;}#sk-container-id-1 div.sk-serial {display: flex;flex-direction: column;align-items: center;background-color: white;padding-right: 0.2em;padding-left: 0.2em;position: relative;}#sk-container-id-1 div.sk-item {position: relative;z-index: 1;}#sk-container-id-1 div.sk-parallel {display: flex;align-items: stretch;justify-content: center;background-color: white;position: relative;}#sk-container-id-1 div.sk-item::before, #sk-container-id-1 div.sk-parallel-item::before {content: \"\";position: absolute;border-left: 1px solid gray;box-sizing: border-box;top: 0;bottom: 0;left: 50%;z-index: -1;}#sk-container-id-1 div.sk-parallel-item {display: flex;flex-direction: column;z-index: 1;position: relative;background-color: white;}#sk-container-id-1 div.sk-parallel-item:first-child::after {align-self: flex-end;width: 50%;}#sk-container-id-1 div.sk-parallel-item:last-child::after {align-self: flex-start;width: 50%;}#sk-container-id-1 div.sk-parallel-item:only-child::after {width: 0;}#sk-container-id-1 div.sk-dashed-wrapped {border: 1px dashed gray;margin: 0 0.4em 0.5em 0.4em;box-sizing: border-box;padding-bottom: 0.4em;background-color: white;}#sk-container-id-1 div.sk-label label {font-family: monospace;font-weight: bold;display: inline-block;line-height: 1.2em;}#sk-container-id-1 div.sk-label-container {text-align: center;}#sk-container-id-1 div.sk-container {/* jupyter's `normalize.less` sets `[hidden] { display: none; }` but bootstrap.min.css set `[hidden] { display: none !important; }` so we also need the `!important` here to be able to override the default hidden behavior on the sphinx rendered scikit-learn.org. See: https://github.com/scikit-learn/scikit-learn/issues/21755 */display: inline-block !important;position: relative;}#sk-container-id-1 div.sk-text-repr-fallback {display: none;}</style><div id=\"sk-container-id-1\" class=\"sk-top-container\"><div class=\"sk-text-repr-fallback\"><pre>Lasso(alpha=0.1)</pre><b>In a Jupyter environment, please rerun this cell to show the HTML representation or trust the notebook. <br />On GitHub, the HTML representation is unable to render, please try loading this page with nbviewer.org.</b></div><div class=\"sk-container\" hidden><div class=\"sk-item\"><div class=\"sk-estimator sk-toggleable\"><input class=\"sk-toggleable__control sk-hidden--visually\" id=\"sk-estimator-id-1\" type=\"checkbox\" checked><label for=\"sk-estimator-id-1\" class=\"sk-toggleable__label sk-toggleable__label-arrow\">Lasso</label><div class=\"sk-toggleable__content\"><pre>Lasso(alpha=0.1)</pre></div></div></div></div></div>"
      ],
      "text/plain": [
       "Lasso(alpha=0.1)"
      ]
     },
     "execution_count": 3,
     "metadata": {},
     "output_type": "execute_result"
    }
   ],
   "source": [
    "lasso = linear_model.Lasso(alpha=0.1)\n",
    "lasso.fit(X,y)"
   ]
  },
  {
   "cell_type": "code",
   "execution_count": 4,
   "id": "e016dacf",
   "metadata": {},
   "outputs": [],
   "source": [
    "pred = lasso.predict(X)\n",
    "test_pred = lasso.predict(X_test)"
   ]
  },
  {
   "cell_type": "code",
   "execution_count": 5,
   "id": "9ffaaf12",
   "metadata": {},
   "outputs": [
    {
     "name": "stdout",
     "output_type": "stream",
     "text": [
      "0.9066313711414213\n",
      "0.8818181818181818\n"
     ]
    }
   ],
   "source": [
    "roc_auc_score\n",
    "print(roc_auc_score(y, pred))\n",
    "print(roc_auc_score(y_test, test_pred))"
   ]
  },
  {
   "cell_type": "code",
   "execution_count": 6,
   "id": "ead06853",
   "metadata": {},
   "outputs": [
    {
     "name": "stdout",
     "output_type": "stream",
     "text": [
      "0.8484076433121019\n",
      "0.8372093023255814\n"
     ]
    }
   ],
   "source": [
    "print(f1_score(y, pred>0.5))\n",
    "print(f1_score(y_test, test_pred>0.5))"
   ]
  },
  {
   "cell_type": "code",
   "execution_count": 7,
   "id": "5b815354",
   "metadata": {},
   "outputs": [
    {
     "name": "stdout",
     "output_type": "stream",
     "text": [
      "[[282  54]\n",
      " [ 65 333]]\n",
      "[[59 15]\n",
      " [20 90]]\n"
     ]
    }
   ],
   "source": [
    "print(confusion_matrix(y, pred>0.5))\n",
    "print(confusion_matrix(y_test, test_pred>0.5))"
   ]
  },
  {
   "cell_type": "markdown",
   "id": "2f3c33da",
   "metadata": {},
   "source": [
    "# Lasso coefs analysis"
   ]
  },
  {
   "cell_type": "code",
   "execution_count": 8,
   "id": "8662c59d",
   "metadata": {},
   "outputs": [
    {
     "name": "stdout",
     "output_type": "stream",
     "text": [
      "---[ NON-ZERO COEFFICIENTS ]---\n",
      "ChestPainType_ASY: -0.122621\n",
      "ChestPainType_ATA: 0.095720\n",
      "Oldpeak: 0.050092\n",
      "RestingBP: 0.013700\n",
      "ExerciseAngina: -0.004096\n",
      "Age: 0.000088\n",
      "\n",
      "---[ ZERO COEFFICIENTS ]---\n",
      "Sex: 0\n",
      "Cholesterol: 0\n",
      "FastingBS: 0\n",
      "MaxHR: 0\n",
      "ST_Slope: 0\n",
      "ChestPainType_NAP: 0\n",
      "ChestPainType_TA: 0\n",
      "RestingECG_LVH: 0\n",
      "RestingECG_Normal: 0\n",
      "RestingECG_ST: 0\n"
     ]
    }
   ],
   "source": [
    "# Get coeff by DESC order, put 0 if really small\n",
    "columns = [c for c in X.columns if c != 'Unnamed: 0']\n",
    "coefs = lasso.coef_\n",
    "\n",
    "features_sorted = sorted(zip(columns, coefs), key=lambda x: -abs(x[1]))\n",
    "\n",
    "THRESHOLD = 1e-16\n",
    "non_zero = [(f, c) for f, c in features_sorted if np.absolute(c) > THRESHOLD]\n",
    "zero = [(f, c) for f, c in features_sorted if np.absolute(c) < THRESHOLD]\n",
    "\n",
    "# Print with clear sections\n",
    "print(\"---[ NON-ZERO COEFFICIENTS ]---\")\n",
    "for feature, coef in non_zero:\n",
    "    print(f\"{feature}: {coef:.6f}\")\n",
    "\n",
    "print(\"\\n---[ ZERO COEFFICIENTS ]---\") \n",
    "for feature, coef in zero:\n",
    "    print(f\"{feature}: 0\")"
   ]
  }
 ],
 "metadata": {
  "kernelspec": {
   "display_name": "scbert_new",
   "language": "python",
   "name": "python3"
  },
  "language_info": {
   "codemirror_mode": {
    "name": "ipython",
    "version": 3
   },
   "file_extension": ".py",
   "mimetype": "text/x-python",
   "name": "python",
   "nbconvert_exporter": "python",
   "pygments_lexer": "ipython3",
   "version": "3.9.21"
  }
 },
 "nbformat": 4,
 "nbformat_minor": 5
}
