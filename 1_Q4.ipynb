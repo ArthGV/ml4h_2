{
 "cells": [
  {
   "cell_type": "code",
   "execution_count": 1,
   "id": "157e5935",
   "metadata": {},
   "outputs": [],
   "source": [
    "import pandas as pd\n",
    "import numpy as np\n",
    "import matplotlib.pyplot as plt"
   ]
  },
  {
   "cell_type": "code",
   "execution_count": 2,
   "id": "cac8fac9",
   "metadata": {},
   "outputs": [],
   "source": [
    "#load data\n",
    "X = pd.read_csv('data/data_preprocessed.csv').drop('Unnamed: 0', axis=1)\n",
    "X_test = pd.read_csv('data/test_data_preprocessed.csv').drop('Unnamed: 0', axis=1)\n",
    "y = pd.read_csv('data/outcome.csv')['HeartDisease']\n",
    "y_test = pd.read_csv('data/outcome_test.csv')['HeartDisease']"
   ]
  }
 ],
 "metadata": {
  "kernelspec": {
   "display_name": "scbert_new",
   "language": "python",
   "name": "python3"
  },
  "language_info": {
   "codemirror_mode": {
    "name": "ipython",
    "version": 3
   },
   "file_extension": ".py",
   "mimetype": "text/x-python",
   "name": "python",
   "nbconvert_exporter": "python",
   "pygments_lexer": "ipython3",
   "version": "3.9.21"
  }
 },
 "nbformat": 4,
 "nbformat_minor": 5
}
